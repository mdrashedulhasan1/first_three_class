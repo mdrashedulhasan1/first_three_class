{
  "nbformat": 4,
  "nbformat_minor": 0,
  "metadata": {
    "colab": {
      "name": "first_three_class.ipynb",
      "provenance": [],
      "authorship_tag": "ABX9TyNEeEZ2I9Uh0ftUhuQaUJJT",
      "include_colab_link": true
    },
    "kernelspec": {
      "name": "python3",
      "display_name": "Python 3"
    },
    "language_info": {
      "name": "python"
    }
  },
  "cells": [
    {
      "cell_type": "markdown",
      "metadata": {
        "id": "view-in-github",
        "colab_type": "text"
      },
      "source": [
        "<a href=\"https://colab.research.google.com/github/mdrashedulhasan1/first_three_class/blob/main/first_three_class.ipynb\" target=\"_parent\"><img src=\"https://colab.research.google.com/assets/colab-badge.svg\" alt=\"Open In Colab\"/></a>"
      ]
    },
    {
      "cell_type": "code",
      "metadata": {
        "colab": {
          "base_uri": "https://localhost:8080/",
          "height": 131
        },
        "id": "UqVj2VoTNoCr",
        "outputId": "88bec91e-e3b2-45ca-e361-dcf289904cd5"
      },
      "source": [
        "# x = 5\n",
        "# y = 7\n",
        "# result = x+y  \n",
        "# print(result)\n",
        "\n",
        "# first_name = \"Rashedul\"\n",
        "# second_name = \" Hasan\"\n",
        "# full_name = first_name+second_name\n",
        "# print(full_name)\n",
        "\n",
        "# name = 'rashedul'\n",
        "# print(name[0])\n",
        "# print(name[1])\n",
        "# print(name[2])\n",
        "# print(name[3])\n",
        "# print(name[4])\n",
        "# print(name[5])\n",
        "# print(name[6])\n",
        "\n"
      ],
      "execution_count": null,
      "outputs": [
        {
          "output_type": "error",
          "ename": "IndentationError",
          "evalue": "ignored",
          "traceback": [
            "\u001b[0;36m  File \u001b[0;32m\"<ipython-input-37-84e3a21f2f6d>\"\u001b[0;36m, line \u001b[0;32m20\u001b[0m\n\u001b[0;31m    name = 'rashedul'\u001b[0m\n\u001b[0m    ^\u001b[0m\n\u001b[0;31mIndentationError\u001b[0m\u001b[0;31m:\u001b[0m unexpected indent\n"
          ]
        }
      ]
    },
    {
      "cell_type": "code",
      "metadata": {
        "colab": {
          "base_uri": "https://localhost:8080/"
        },
        "id": "Gt9B6qPVUhHo",
        "outputId": "bb802a6d-b308-4e92-df14-3ffab0b0595e"
      },
      "source": [
        "num1 = 10\n",
        "num2 = 12.50\n",
        "num3 = 'tapu'\n",
        "num4 = True\n",
        "num5 = False\n",
        "print(type(num1))\n",
        "print(type(num2))\n",
        "print(type(num3))\n",
        "print(type(num4))\n",
        "print(type(num5))"
      ],
      "execution_count": null,
      "outputs": [
        {
          "output_type": "stream",
          "name": "stdout",
          "text": [
            "<class 'int'>\n",
            "<class 'float'>\n",
            "<class 'str'>\n",
            "<class 'bool'>\n",
            "<class 'bool'>\n"
          ]
        }
      ]
    },
    {
      "cell_type": "code",
      "metadata": {
        "colab": {
          "base_uri": "https://localhost:8080/"
        },
        "id": "A7Kwa_s7XXM4",
        "outputId": "fd04c6a3-000c-45dd-8d7f-9dd39938b44a"
      },
      "source": [
        "x = int(input(\"Enter first number: \"))\n",
        "y = int(input(\"Enter second number: \"))\n",
        "z = int(input(\"Enter third number: \"))\n",
        "result = x+y+z\n",
        "print(\"This is our final result:\",result)"
      ],
      "execution_count": null,
      "outputs": [
        {
          "output_type": "stream",
          "name": "stdout",
          "text": [
            "Enter first number: 10\n",
            "Enter second number: 20\n",
            "Enter third number: 30\n",
            "This is our final result: 60\n"
          ]
        }
      ]
    },
    {
      "cell_type": "code",
      "metadata": {
        "colab": {
          "base_uri": "https://localhost:8080/"
        },
        "id": "V0juIHBJbnuB",
        "outputId": "beda5fc1-41f7-4fe1-8ec0-11a1726eac28"
      },
      "source": [
        "num1 = 20\n",
        "num2 = 30\n",
        "print(num1,num2)"
      ],
      "execution_count": null,
      "outputs": [
        {
          "output_type": "stream",
          "name": "stdout",
          "text": [
            "20 30\n"
          ]
        }
      ]
    },
    {
      "cell_type": "code",
      "metadata": {
        "colab": {
          "base_uri": "https://localhost:8080/",
          "height": 201
        },
        "id": "4b3ZdV1fb-tu",
        "outputId": "c34581bd-2f75-45ac-d9b1-ebcfd0a5158f"
      },
      "source": [
        ""
      ],
      "execution_count": null,
      "outputs": [
        {
          "output_type": "error",
          "ename": "TypeError",
          "evalue": "ignored",
          "traceback": [
            "\u001b[0;31m---------------------------------------------------------------------------\u001b[0m",
            "\u001b[0;31mTypeError\u001b[0m                                 Traceback (most recent call last)",
            "\u001b[0;32m<ipython-input-62-00c3b3b0c94b>\u001b[0m in \u001b[0;36m<module>\u001b[0;34m()\u001b[0m\n\u001b[1;32m      1\u001b[0m \u001b[0mname\u001b[0m \u001b[0;34m=\u001b[0m \u001b[0;34m'tapu'\u001b[0m\u001b[0;34m\u001b[0m\u001b[0;34m\u001b[0m\u001b[0m\n\u001b[0;32m----> 2\u001b[0;31m \u001b[0mname\u001b[0m\u001b[0;34m[\u001b[0m\u001b[0;36m1\u001b[0m\u001b[0;34m]\u001b[0m \u001b[0;34m=\u001b[0m \u001b[0;34m'b'\u001b[0m\u001b[0;34m\u001b[0m\u001b[0;34m\u001b[0m\u001b[0m\n\u001b[0m\u001b[1;32m      3\u001b[0m \u001b[0mprint\u001b[0m\u001b[0;34m(\u001b[0m\u001b[0mname\u001b[0m\u001b[0;34m)\u001b[0m\u001b[0;34m\u001b[0m\u001b[0;34m\u001b[0m\u001b[0m\n",
            "\u001b[0;31mTypeError\u001b[0m: 'str' object does not support item assignment"
          ]
        }
      ]
    },
    {
      "cell_type": "code",
      "metadata": {
        "id": "2Ows2WHadG9Y"
      },
      "source": [
        "#  x = True\n",
        "#  type(x)\n",
        "\n",
        "# y = False\n",
        "# type(y)\n"
      ],
      "execution_count": null,
      "outputs": []
    },
    {
      "cell_type": "code",
      "metadata": {
        "colab": {
          "base_uri": "https://localhost:8080/"
        },
        "id": "B-3Vo48hegjX",
        "outputId": "52d543d8-dc00-4e2a-d542-06144be5882b"
      },
      "source": [
        "# x = 5\n",
        "# y = 5\n",
        "# print(x == y)\n",
        "\n",
        "# x = 10\n",
        "# y = 5\n",
        "# print(x!=y)\n",
        "\n",
        "# x = 40\n",
        "# y = 20\n",
        "# print(x>y)\n",
        "\n",
        "# x = 40\n",
        "# y = 50\n",
        "# print(x<y)\n",
        "\n",
        "# x = 40\n",
        "# y = 40\n",
        "# print(x>=y)\n",
        "\n",
        "# x = 50\n",
        "# y = 50\n",
        "# print(x<=y)\n",
        "\n",
        "\n"
      ],
      "execution_count": null,
      "outputs": [
        {
          "output_type": "stream",
          "name": "stdout",
          "text": [
            "True\n"
          ]
        }
      ]
    },
    {
      "cell_type": "code",
      "metadata": {
        "colab": {
          "base_uri": "https://localhost:8080/"
        },
        "id": "HQ1HV_BchbSn",
        "outputId": "8100a5eb-63f2-4d70-a3e2-5bde685a8480"
      },
      "source": [
        "x = 10\n",
        "y = 20\n",
        "if x>y:\n",
        "  print(x,\"is greater then\",y)\n",
        "else:\n",
        "  print(y,\"is greater then\",x)\n"
      ],
      "execution_count": null,
      "outputs": [
        {
          "output_type": "stream",
          "name": "stdout",
          "text": [
            "20 is greater then 10\n"
          ]
        }
      ]
    },
    {
      "cell_type": "code",
      "metadata": {
        "colab": {
          "base_uri": "https://localhost:8080/"
        },
        "id": "rMrQBWIziJfZ",
        "outputId": "58ec234d-d914-4450-e16d-83a701dbd707"
      },
      "source": [
        "x = 5\n",
        "if x==5:\n",
        "  print(x,\"Found\") "
      ],
      "execution_count": null,
      "outputs": [
        {
          "output_type": "stream",
          "name": "stdout",
          "text": [
            "5 Found\n"
          ]
        }
      ]
    },
    {
      "cell_type": "code",
      "metadata": {
        "colab": {
          "base_uri": "https://localhost:8080/"
        },
        "id": "omGDaJ-bijmX",
        "outputId": "8822b48b-9a18-4863-f1aa-a916f5053fe8"
      },
      "source": [
        "x = int(input(\"Enter a number: \"))\n",
        "if x==0:\n",
        "  print(\"Zero\")\n",
        "elif x%2!=0:\n",
        "  print(\"Odd Number\")\n",
        "else:\n",
        "  print(\"Even Number\")"
      ],
      "execution_count": null,
      "outputs": [
        {
          "output_type": "stream",
          "name": "stdout",
          "text": [
            "Enter a number: 0\n",
            "Zero\n"
          ]
        }
      ]
    },
    {
      "cell_type": "code",
      "metadata": {
        "colab": {
          "base_uri": "https://localhost:8080/"
        },
        "id": "bfbX6MeZjfw4",
        "outputId": "c5d2e2f1-dfc4-49ce-f92a-e783243966ea"
      },
      "source": [
        "marks = int(input(\"Enter your marks: \"))\n",
        "if marks>=80:\n",
        "  print(\"A+\")\n",
        "elif marks>=70:\n",
        "  print(\"A\")\n",
        "elif marks>=60:\n",
        "  print(\"A-\")\n",
        "elif marks>=50:\n",
        "  print(\"B\")\n",
        "elif marks>=40:\n",
        "  print(\"C\")\n",
        "elif marks>=33:\n",
        "  print(\"D\")\n",
        "else:\n",
        "  print(\"Fail\")"
      ],
      "execution_count": null,
      "outputs": [
        {
          "output_type": "stream",
          "name": "stdout",
          "text": [
            "Enter your marks: 89\n",
            "A+\n"
          ]
        }
      ]
    },
    {
      "cell_type": "code",
      "metadata": {
        "colab": {
          "base_uri": "https://localhost:8080/"
        },
        "id": "1PPA77LFkc6A",
        "outputId": "533c9ad1-cd0f-42bf-bf1a-25fdb0fef8d3"
      },
      "source": [
        "x = int(input())\n",
        "y = int(input())\n",
        "z = int(input())\n",
        "if x<y:\n",
        "  if x<z:\n",
        "    print(x,\"is the small number\")\n",
        "  else:\n",
        "    print(z,\"is the small number\")\n",
        "else:\n",
        "  if y<z:\n",
        "    print(y,\"is the small number\")\n",
        "  else:\n",
        "    print(z,\"is the small number\")\n"
      ],
      "execution_count": null,
      "outputs": [
        {
          "output_type": "stream",
          "name": "stdout",
          "text": [
            "5\n",
            "10\n",
            "15\n",
            "5 is the small number\n"
          ]
        }
      ]
    }
  ]
}